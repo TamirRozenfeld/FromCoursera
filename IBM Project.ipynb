{
 "cells": [
  {
   "cell_type": "code",
   "execution_count": null,
   "id": "3d8cfd02-5eeb-4789-8e29-cf512ccb370e",
   "metadata": {},
   "outputs": [],
   "source": []
  },
  {
   "cell_type": "markdown",
   "id": "07d01cef-43e0-41d4-ae78-ed42e9b9cdb9",
   "metadata": {},
   "source": [
    "# My Jupyter Notebook on IBM Watson Studio\n",
    "**Tamir** <br> data science<br>\n",
    "*i am interested in data science because i love the idea of making the world more efficienc in all aspect of life.*<br>\n",
    "### writing code for calculating 1 + 1 and printing result.\n"
   ]
  },
  {
   "cell_type": "code",
   "execution_count": 1,
   "id": "45385b8c-3b19-4b2e-9f47-170f5f6080a7",
   "metadata": {},
   "outputs": [
    {
     "name": "stdout",
     "output_type": "stream",
     "text": [
      "2\n"
     ]
    }
   ],
   "source": [
    "print(1+1)"
   ]
  },
  {
   "cell_type": "markdown",
   "id": "002d4fcc-f2fa-4e02-be8b-5a08e601ae50",
   "metadata": {},
   "source": [
    " This is how color work in Jupyter.<br>\n",
    "<font color=red>x = 3**4</font> <br> \n",
    "***\n",
    "1. my\n",
    "2. name \n",
    "3. is \n",
    "    1. my \n",
    "    2. name\n",
    "1.Tamir\n",
    "    <br>\n",
    "<s>helloworld<br>\n",
    "    \n",
    "   | age| name|\n",
    "    |---|---|\n",
    "    |30|tamir|\n",
    "    \n",
    " \n",
    "    \n"
   ]
  },
  {
   "cell_type": "code",
   "execution_count": null,
   "id": "c38faf4c-9bed-4e2c-b2a3-1b967856d98e",
   "metadata": {},
   "outputs": [],
   "source": []
  }
 ],
 "metadata": {
  "kernelspec": {
   "display_name": "Python 3 (ipykernel)",
   "language": "python",
   "name": "python3"
  },
  "language_info": {
   "codemirror_mode": {
    "name": "ipython",
    "version": 3
   },
   "file_extension": ".py",
   "mimetype": "text/x-python",
   "name": "python",
   "nbconvert_exporter": "python",
   "pygments_lexer": "ipython3",
   "version": "3.9.12"
  }
 },
 "nbformat": 4,
 "nbformat_minor": 5
}
